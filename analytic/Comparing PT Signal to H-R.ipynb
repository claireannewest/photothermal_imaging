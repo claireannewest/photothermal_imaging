{
 "cells": [
  {
   "cell_type": "code",
   "execution_count": 1,
   "id": "90e6a8d0",
   "metadata": {},
   "outputs": [],
   "source": [
    "from analytic_psfs import Mie_Theory\n",
    "from analytic_psfs import Photothermal_Image\n",
    "from analytic_psfs import Plot_Everything\n",
    "import numpy as np\n",
    "import matplotlib.pyplot as plt"
   ]
  },
  {
   "cell_type": "markdown",
   "id": "53b9f446",
   "metadata": {},
   "source": [
    "## Vary Pump Power"
   ]
  },
  {
   "cell_type": "code",
   "execution_count": 2,
   "id": "b9c11e23",
   "metadata": {},
   "outputs": [
    {
     "ename": "TypeError",
     "evalue": "__init__() missing 1 required positional argument: 'selected_waves'",
     "output_type": "error",
     "traceback": [
      "\u001b[0;31m---------------------------------------------------------------------------\u001b[0m",
      "\u001b[0;31mTypeError\u001b[0m                                 Traceback (most recent call last)",
      "\u001b[0;32m/var/folders/8m/fpl8z4d17gd06zt9_0c4ty7m0000gn/T/ipykernel_15839/869707181.py\u001b[0m in \u001b[0;36m<module>\u001b[0;34m\u001b[0m\n\u001b[1;32m     11\u001b[0m \u001b[0;34m\u001b[0m\u001b[0m\n\u001b[1;32m     12\u001b[0m \u001b[0;34m\u001b[0m\u001b[0m\n\u001b[0;32m---> 13\u001b[0;31m \u001b[0mmt_single\u001b[0m \u001b[0;34m=\u001b[0m \u001b[0mMie_Theory\u001b[0m\u001b[0;34m(\u001b[0m\u001b[0mradius\u001b[0m\u001b[0;34m,\u001b[0m \u001b[0mpump\u001b[0m\u001b[0;34m)\u001b[0m\u001b[0;34m\u001b[0m\u001b[0;34m\u001b[0m\u001b[0m\n\u001b[0m\u001b[1;32m     14\u001b[0m \u001b[0mabs_cross\u001b[0m\u001b[0;34m,\u001b[0m \u001b[0m_\u001b[0m\u001b[0;34m,\u001b[0m \u001b[0m_\u001b[0m \u001b[0;34m=\u001b[0m \u001b[0mmt_single\u001b[0m\u001b[0;34m.\u001b[0m\u001b[0mcross_sects\u001b[0m\u001b[0;34m(\u001b[0m\u001b[0mnTOT\u001b[0m\u001b[0;34m=\u001b[0m\u001b[0mnTOT_abs\u001b[0m\u001b[0;34m)\u001b[0m\u001b[0;34m\u001b[0m\u001b[0;34m\u001b[0m\u001b[0m\n\u001b[1;32m     15\u001b[0m pt = Photothermal_Image(radius, pump, abs_cross, \n",
      "\u001b[0;31mTypeError\u001b[0m: __init__() missing 1 required positional argument: 'selected_waves'"
     ]
    },
    {
     "data": {
      "image/png": "[encoded data removed]",
      "text/plain": [
       "<Figure size 288x288 with 1 Axes>"
      ]
     },
     "metadata": {
      "needs_background": "light"
     },
     "output_type": "display_data"
    }
   ],
   "source": [
    "fig, ax = plt.subplots(1, 1, figsize=(4.,4.),sharex=True)\n",
    "radius = np.array([10])*1E-7\n",
    "\n",
    "waverange = np.round(np.arange(450, 700, 1)*1E-7, 7)\n",
    "pump = np.array([532.E-7])\n",
    "probe = 785.E-7\n",
    "whichalpha='coreshell_MW'\n",
    "nTOT_abs=10\n",
    "\n",
    "power_pump = 500 # microwatts\n",
    "\n",
    "\n",
    "mt_single = Mie_Theory(radius, pump)\n",
    "abs_cross, _, _ = mt_single.cross_sects(nTOT=nTOT_abs)\n",
    "pt = Photothermal_Image(radius, pump, abs_cross, \n",
    "                        power_pump*10, probe, whichalpha)\n",
    "\n",
    "pt.pt_signal(which='sin', norm=False, P0_probe=100*10)\n",
    "pt.h_minus_r()"
   ]
  },
  {
   "cell_type": "code",
   "execution_count": 3,
   "id": "ad2a1d84",
   "metadata": {},
   "outputs": [
    {
     "ename": "TypeError",
     "evalue": "__init__() missing 1 required positional argument: 'nb'",
     "output_type": "error",
     "traceback": [
      "\u001b[0;31m---------------------------------------------------------------------------\u001b[0m",
      "\u001b[0;31mTypeError\u001b[0m                                 Traceback (most recent call last)",
      "\u001b[0;32m/var/folders/8m/fpl8z4d17gd06zt9_0c4ty7m0000gn/T/ipykernel_15839/3005081157.py\u001b[0m in \u001b[0;36m<module>\u001b[0;34m\u001b[0m\n\u001b[1;32m      6\u001b[0m \u001b[0mpower\u001b[0m \u001b[0;34m=\u001b[0m \u001b[0;36m500\u001b[0m \u001b[0;31m# microWatts\u001b[0m\u001b[0;34m\u001b[0m\u001b[0;34m\u001b[0m\u001b[0m\n\u001b[1;32m      7\u001b[0m \u001b[0;34m\u001b[0m\u001b[0m\n\u001b[0;32m----> 8\u001b[0;31m \u001b[0mpe\u001b[0m \u001b[0;34m=\u001b[0m \u001b[0mPlot_Everything\u001b[0m\u001b[0;34m(\u001b[0m\u001b[0mradius\u001b[0m\u001b[0;34m)\u001b[0m\u001b[0;34m\u001b[0m\u001b[0;34m\u001b[0m\u001b[0m\n\u001b[0m\u001b[1;32m      9\u001b[0m \u001b[0mwaverange\u001b[0m \u001b[0;34m=\u001b[0m \u001b[0mnp\u001b[0m\u001b[0;34m.\u001b[0m\u001b[0mround\u001b[0m\u001b[0;34m(\u001b[0m\u001b[0mnp\u001b[0m\u001b[0;34m.\u001b[0m\u001b[0marange\u001b[0m\u001b[0;34m(\u001b[0m\u001b[0;36m450\u001b[0m\u001b[0;34m,\u001b[0m \u001b[0;36m700\u001b[0m\u001b[0;34m,\u001b[0m \u001b[0;36m100\u001b[0m\u001b[0;34m)\u001b[0m\u001b[0;34m*\u001b[0m\u001b[0;36m1E-7\u001b[0m\u001b[0;34m,\u001b[0m \u001b[0;36m7\u001b[0m\u001b[0;34m)\u001b[0m\u001b[0;34m\u001b[0m\u001b[0;34m\u001b[0m\u001b[0m\n\u001b[1;32m     10\u001b[0m \u001b[0mpump\u001b[0m \u001b[0;34m=\u001b[0m \u001b[0mwaverange\u001b[0m\u001b[0;34m\u001b[0m\u001b[0;34m\u001b[0m\u001b[0m\n",
      "\u001b[0;31mTypeError\u001b[0m: __init__() missing 1 required positional argument: 'nb'"
     ]
    },
    {
     "data": {
      "image/png": "[encoded data removed]",
      "text/plain": [
       "<Figure size 669.6x129.6 with 5 Axes>"
      ]
     },
     "metadata": {
      "needs_background": "light"
     },
     "output_type": "display_data"
    }
   ],
   "source": [
    "fig, ax = plt.subplots(1, 5, figsize=(9.3,1.8),sharex=True)\n",
    "radius = np.array([10, 20, 30, 40, 50])*1E-7\n",
    "whichalpha='coreshell_MW'\n",
    "nTOT_abs=10\n",
    "nTOT_sca=10\n",
    "power = 500 # microWatts\n",
    "\n",
    "pe = Plot_Everything(radius)\n",
    "waverange = np.round(np.arange(450, 700, 100)*1E-7, 7)\n",
    "pump = waverange\n",
    "probe = np.array([785.E-7])\n",
    "\n",
    "pe.sweepwave_atzpmax(True, pump, probe, whichalpha, \n",
    "                    nTOT_abs, nTOT_sca, \n",
    "                    power, fig, ax,\n",
    "                    plot_scatt_diff=False,\n",
    "                    sep_sincos=False,\n",
    "                    include_zpmax=True,\n",
    "                    waverange=waverange)"
   ]
  },
  {
   "cell_type": "code",
   "execution_count": null,
   "id": "f4bb3df0",
   "metadata": {},
   "outputs": [],
   "source": []
  }
 ],
 "metadata": {
  "kernelspec": {
   "display_name": "Python 3 (ipykernel)",
   "language": "python",
   "name": "python3"
  },
  "language_info": {
   "codemirror_mode": {
    "name": "ipython",
    "version": 3
   },
   "file_extension": ".py",
   "mimetype": "text/x-python",
   "name": "python",
   "nbconvert_exporter": "python",
   "pygments_lexer": "ipython3",
   "version": "3.8.11"
  }
 },
 "nbformat": 4,
 "nbformat_minor": 5
}
