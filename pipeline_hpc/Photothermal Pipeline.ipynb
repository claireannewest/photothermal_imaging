{
 "cells": [
  {
   "cell_type": "code",
   "execution_count": 1,
   "id": "75b786c9",
   "metadata": {},
   "outputs": [],
   "source": [
    "import numpy as np\n",
    "import matplotlib.pyplot as plt\n",
    "from make_files import Mg_Shapes\n",
    "import os\n",
    "# from distutils.dir_util import copy_tree\n",
    "import shutil"
   ]
  },
  {
   "cell_type": "markdown",
   "id": "f3199c76",
   "metadata": {},
   "source": [
    "# Step 1: Initial Optical and Thermal Calculations"
   ]
  },
  {
   "cell_type": "markdown",
   "id": "b4e23c9b",
   "metadata": {},
   "source": [
    "### Make Folders and Submit Scripts"
   ]
  },
  {
   "cell_type": "code",
   "execution_count": 2,
   "id": "639db90c",
   "metadata": {},
   "outputs": [],
   "source": [
    "%rm -r raster_data_H/*"
   ]
  },
  {
   "cell_type": "code",
   "execution_count": 3,
   "id": "fca429e3",
   "metadata": {},
   "outputs": [],
   "source": [
    "boxsize = 80 # nm, rastering \n",
    "stepsize = 20\n",
    "shapefile=str('shape.dat_little')\n",
    "shape=np.loadtxt(str(shapefile), skiprows=7)\n",
    "\n",
    "# Create ddscat.par files\n",
    "mgshape = Mg_Shapes(lat_space=1, \n",
    "                shell=True)\n",
    "\n",
    "yrange = np.arange(-boxsize/2, boxsize/2+1, stepsize)\n",
    "zrange = np.arange(-boxsize/2, boxsize/2+1, stepsize)\n",
    "ygrid, zgrid = np.meshgrid(yrange, zrange)\n",
    "ypoints = np.ravel(ygrid); zpoints = np.ravel(zgrid)"
   ]
  },
  {
   "cell_type": "code",
   "execution_count": 4,
   "id": "a1541caa",
   "metadata": {},
   "outputs": [],
   "source": [
    "for i in range(0, len(ypoints)):\n",
    "    directory = str(\"y\")+str(int(ypoints[i]))+str(\"_z\")+str(int(zpoints[i]))\n",
    "    os.mkdir(str(\"raster_data_H/\")+str(directory))\n",
    "    shutil.copyfile(shapefile, str(\"raster_data_H/\")+str(directory)+str('/shape.dat'))\n",
    "    mgshape.write_ddscatpar(shapefile=shapefile,\n",
    "                            wavelength=0.785, # um\n",
    "                            diel_paths=['/home/caw97/rds/hpc-work/diels/Mg_Palik.txt',\n",
    "                                        '/home/caw97/rds/hpc-work/diels/MgO.txt'],\n",
    "                            nrfld=2,\n",
    "                            iwrksc=0,\n",
    "                            nplanes=0,\n",
    "                            gauss_center=np.array([ypoints[i], zpoints[i]])\n",
    "                           )\n",
    "    os.rename('ddscat.par', str(\"raster_data_H/\")+str(directory)+str('/ddscat.par'))\n",
    "    \n",
    "    ## Prepare var.par file\n",
    "    mgshape.write_varpar(wavelength=0.785, xvals=shape[:,1], yvals=shape[:,2], zvals=shape[:,3])\n",
    "    os.rename('var.par', str(\"raster_data_H/\")+str(directory)+str('/var.par'))\n",
    "\n",
    "    \n",
    "    \n",
    "    "
   ]
  },
  {
   "cell_type": "markdown",
   "id": "028b6b39",
   "metadata": {},
   "source": [
    "### Prepare Launch File"
   ]
  },
  {
   "cell_type": "code",
   "execution_count": 5,
   "id": "d1cfb831",
   "metadata": {},
   "outputs": [
    {
     "data": {
      "text/plain": [
       "'launch5.slurm'"
      ]
     },
     "execution_count": 5,
     "metadata": {},
     "output_type": "execute_result"
    }
   ],
   "source": [
    "########################################################\n",
    "##### Launch 1 #####\n",
    "\n",
    "new_launch = open('launch_temp1.slurm')\n",
    "lines = new_launch.readlines()\n",
    "\n",
    "new_string_y = str('yarray=( ')+' '.join(repr(int(i)) for i in ypoints).replace(\"'\", '\"') + str(' )') + str('\\n')\n",
    "new_string_z = str('zarray=( ')+' '.join(repr(int(i)) for i in zpoints).replace(\"'\", '\"') + str(' )') + str('\\n')\n",
    "\n",
    "lines[25] = new_string_y\n",
    "lines[27] = new_string_z\n",
    "\n",
    "num=len(ypoints)\n",
    "lines[21] = str('#SBATCH --array=0-')+str(num-1)\n",
    "new_launch = open(str('launch1.slurm'),\"w\")\n",
    "new_launch.writelines(lines)\n",
    "new_launch.close()\n",
    "\n",
    "########################################################\n",
    "##### Launch 2 #####\n",
    "\n",
    "shutil.copyfile('launch_temp2.slurm', 'launch2.slurm')\n",
    "\n",
    "\n",
    "########################################################\n",
    "##### Launch 3 #####\n",
    "\n",
    "new_launch = open('launch_temp3.slurm')\n",
    "lines = new_launch.readlines()\n",
    "\n",
    "lines[25] = new_string_y\n",
    "lines[27] = new_string_z\n",
    "\n",
    "lines[21] = str('#SBATCH --array=0-')+str(num-1)\n",
    "new_launch = open(str('launch3.slurm'),\"w\")\n",
    "new_launch.writelines(lines)\n",
    "new_launch.close()\n",
    "\n",
    "\n",
    "########################################################\n",
    "##### Launch 4 #####\n",
    "\n",
    "new_launch = open('launch_temp4.slurm')\n",
    "lines = new_launch.readlines()\n",
    "\n",
    "lines[25] = new_string_y\n",
    "lines[27] = new_string_z\n",
    "\n",
    "lines[21] = str('#SBATCH --array=0-')+str(num-1)\n",
    "new_launch = open(str('launch4.slurm'),\"w\")\n",
    "new_launch.writelines(lines)\n",
    "new_launch.close()\n",
    "\n",
    "\n",
    "########################################################\n",
    "##### Launch 5 #####\n",
    "\n",
    "shutil.copyfile('launch_temp5.slurm', 'launch5.slurm')\n",
    "\n",
    "\n",
    "\n",
    "\n"
   ]
  }
 ],
 "metadata": {
  "kernelspec": {
   "display_name": "Python 3 (ipykernel)",
   "language": "python",
   "name": "python3"
  },
  "language_info": {
   "codemirror_mode": {
    "name": "ipython",
    "version": 3
   },
   "file_extension": ".py",
   "mimetype": "text/x-python",
   "name": "python",
   "nbconvert_exporter": "python",
   "pygments_lexer": "ipython3",
   "version": "3.8.11"
  }
 },
 "nbformat": 4,
 "nbformat_minor": 5
}
