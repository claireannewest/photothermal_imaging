{
 "cells": [
  {
   "cell_type": "code",
   "execution_count": 2,
   "id": "90e6a8d0",
   "metadata": {},
   "outputs": [],
   "source": [
    "from analytic_psfs import Mie_Theory\n",
    "from analytic_psfs import Plot_Everything\n",
    "import numpy as np\n",
    "import matplotlib.pyplot as plt"
   ]
  },
  {
   "cell_type": "markdown",
   "id": "39a9c259",
   "metadata": {},
   "source": [
    "# Vary Pump Wavelength"
   ]
  },
  {
   "cell_type": "markdown",
   "id": "53b9f446",
   "metadata": {},
   "source": [
    "### Line Spectra (Evaulated at max zp)"
   ]
  },
  {
   "cell_type": "code",
   "execution_count": null,
   "id": "c80c16b4",
   "metadata": {},
   "outputs": [],
   "source": [
    "fig, ax = plt.subplots(1, 5, figsize=(9.3,1.8),sharex=True)\n",
    "radius = np.array([10, 20, 30, 40, 50])*1E-7\n",
    "whichalpha='coreshell_MW'\n",
    "nTOT_abs=10\n",
    "nTOT_sca=10\n",
    "power = 500 # microWatts\n",
    "nb=1.473\n",
    "\n",
    "pe = Plot_Everything(radius, nb)\n",
    "waverange = np.round(np.arange(450, 700, 10)*1E-7, 7)\n",
    "pump = waverange\n",
    "probe = np.array([785.E-7])\n",
    "\n",
    "pe.sweepwave_atzpmax(norm_sig=True, wave_pump=pump, wave_probe=probe, \n",
    "                     whichalpha=whichalpha, \n",
    "                     nTOT_abs=nTOT_abs, nTOT_sca=nTOT_sca, \n",
    "                     power=power, fig=fig, ax=ax,\n",
    "                     plot_scatt_diff=False,\n",
    "                     sep_sincos=False,\n",
    "                     include_zpmax=True,\n",
    "                     waverange=waverange)\n",
    "\n",
    "\n"
   ]
  },
  {
   "cell_type": "markdown",
   "id": "02cd8639",
   "metadata": {},
   "source": [
    "### Spectrum Image"
   ]
  },
  {
   "cell_type": "code",
   "execution_count": null,
   "id": "e5a0c840",
   "metadata": {},
   "outputs": [],
   "source": [
    "# fig, ax = plt.subplots(1, 1, figsize=(6,4),sharex=True)\n",
    "# radius = 10*1E-7\n",
    "# waverange = np.round(np.arange(400, 700, 10)*1E-7, 7)\n",
    "# zp = np.arange(-2000, 2000, 20)*1E-7\n",
    "# pump = waverange\n",
    "# probe = 785.E-7\n",
    "# whichalpha='coreshell_MW'\n",
    "# nTOT_abs=10\n",
    "# nTOT_sca=10\n",
    "# power = 500 # microWatts\n",
    "\n",
    "# pe = Plot_Everything(radius)\n",
    "# pe.sweep_zp_image(pump, probe, whichalpha, nTOT_abs, power, fig, ax, zp)\n",
    "\n"
   ]
  },
  {
   "cell_type": "markdown",
   "id": "c4300d78",
   "metadata": {},
   "source": [
    "# Vary Probe Wavelength"
   ]
  },
  {
   "cell_type": "markdown",
   "id": "82f250fe",
   "metadata": {},
   "source": [
    "### Line Spectra (Evaulated at max zp)"
   ]
  },
  {
   "cell_type": "code",
   "execution_count": null,
   "id": "b423dc7b",
   "metadata": {},
   "outputs": [],
   "source": [
    "fig, ax = plt.subplots(1, 5, figsize=(9.3,1.8),sharex=True)\n",
    "radius = np.array([10, 20, 30, 40, 50])*1E-7\n",
    "whichalpha='coreshell_MW'\n",
    "nTOT_abs=10\n",
    "nTOT_sca=10\n",
    "power = 500 # microWatts\n",
    "nb=1.473\n",
    "\n",
    "pe = Plot_Everything(radius, nb)\n",
    "waverange = np.round(np.arange(450, 700, 10)*1E-7, 7)\n",
    "pump = np.array([532.E-7])\n",
    "probe = waverange\n",
    "\n",
    "pe.sweepwave_atzpmax(norm_sig=True, wave_pump=pump, wave_probe=probe, \n",
    "                     whichalpha=whichalpha, \n",
    "                     nTOT_abs=nTOT_abs, nTOT_sca=nTOT_sca, \n",
    "                     power=power, fig=fig, ax=ax,\n",
    "                     plot_scatt_diff=False,\n",
    "                     sep_sincos=False,\n",
    "                     include_zpmax=True,\n",
    "                     waverange=waverange)\n",
    "\n"
   ]
  },
  {
   "cell_type": "markdown",
   "id": "07f5b107",
   "metadata": {},
   "source": [
    "### Spectrum Image"
   ]
  },
  {
   "cell_type": "code",
   "execution_count": null,
   "id": "52f3e05c",
   "metadata": {},
   "outputs": [],
   "source": [
    "# fig, ax = plt.subplots(1, 1, figsize=(6,4),sharex=True)\n",
    "# radius = 40*1E-7\n",
    "# waverange = np.round(np.arange(490, 700, 10)*1E-7, 7)\n",
    "# zp = np.arange(-2000, 2000, 20)*1E-7\n",
    "# pump = np.array([532.E-7])\n",
    "# probe = waverange\n",
    "# whichalpha='coreshell_MW'\n",
    "# nTOT_abs=10\n",
    "# nTOT_sca=10\n",
    "# power = 500 # microWatts\n",
    "\n",
    "# pe = Plot_Everything(radius)\n",
    "# pe.sweep_zp_image(False,pump, probe, whichalpha, nTOT_abs, power, fig, ax, zp)\n"
   ]
  },
  {
   "cell_type": "markdown",
   "id": "800460e9",
   "metadata": {},
   "source": [
    "# Vary Both Pump and Probe"
   ]
  },
  {
   "cell_type": "markdown",
   "id": "9e85041d",
   "metadata": {},
   "source": [
    "### Line Spectra (Evaluated at zp max)"
   ]
  },
  {
   "cell_type": "code",
   "execution_count": null,
   "id": "383876a1",
   "metadata": {},
   "outputs": [],
   "source": [
    "# fig, ax = plt.subplots(1, 5, figsize=(9.3,1.8),sharex=True)\n",
    "# radius = np.array([10, 20, 30, 40, 50])*1E-7\n",
    "# whichalpha='coreshell_MW'\n",
    "# nTOT_abs=10\n",
    "# nTOT_sca=10\n",
    "# power = 500 # microWatts\n",
    "\n",
    "# pe = Plot_Everything(radius)\n",
    "# waverange = np.round(np.arange(450, 700, 5)*1E-7, 7)\n",
    "# pump = waverange\n",
    "# probe = waverange\n",
    "\n",
    "# pe.sweepwave_atzpmax(False,pump, probe, whichalpha, \n",
    "#                     nTOT_abs, nTOT_sca, \n",
    "#                     power, fig, ax,\n",
    "#                     plot_scatt_diff=False,\n",
    "#                     sep_sincos=False,\n",
    "#                     include_zpmax=True,\n",
    "#                     waverange=waverange)"
   ]
  },
  {
   "cell_type": "markdown",
   "id": "9d23baeb",
   "metadata": {},
   "source": [
    "### Spectrum Image"
   ]
  },
  {
   "cell_type": "code",
   "execution_count": null,
   "id": "efde93ea",
   "metadata": {},
   "outputs": [],
   "source": [
    "# fig, ax = plt.subplots(1, 1, figsize=(6,4),sharex=True)\n",
    "# radius = 45*1E-7\n",
    "# waverange = np.round(np.arange(490, 700, 10)*1E-7, 7)\n",
    "# zp = np.arange(-1000, 1000, 20)*1E-7\n",
    "# pump = waverange\n",
    "# probe = waverange\n",
    "# whichalpha='coreshell_MW'\n",
    "# nTOT_abs=10\n",
    "# nTOT_sca=10\n",
    "# power = 500 # microWatts\n",
    "\n",
    "# pe = Plot_Everything(radius)\n",
    "# pe.sweep_zp_image(False,pump, probe, whichalpha, nTOT_abs, power, fig, ax, zp)\n"
   ]
  },
  {
   "cell_type": "markdown",
   "id": "82567a00",
   "metadata": {},
   "source": [
    "# Sweep Power"
   ]
  },
  {
   "cell_type": "code",
   "execution_count": 4,
   "id": "6acbc0a2",
   "metadata": {},
   "outputs": [
    {
     "data": {
      "image/png": "[encoded data removed]",
      "text/plain": [
       "<Figure size 288x288 with 1 Axes>"
      ]
     },
     "metadata": {
      "needs_background": "light"
     },
     "output_type": "display_data"
    }
   ],
   "source": [
    "from analytic_psfs import Mie_Theory\n",
    "from analytic_psfs import Plot_Everything\n",
    "import numpy as np\n",
    "import matplotlib.pyplot as plt\n",
    "\n",
    "fig, ax = plt.subplots(1, 1, figsize=(4.,4.),sharex=True)\n",
    "radius = np.array([10, 20, 75])*1E-7\n",
    "\n",
    "waverange = np.round(np.arange(450, 700, 1)*1E-7, 7)\n",
    "pump = np.array([532.E-7])\n",
    "probe = 785.E-7\n",
    "whichalpha='coreshell_MW'\n",
    "nTOT_abs=10\n",
    "nb = 1.473\n",
    "power_range = np.arange(1, 1101, 100) # microwatts\n",
    "\n",
    "pe = Plot_Everything(radius, nb)\n",
    "pe.sweep_power(norm_sig=False, wave_pump=pump, wave_probe=probe, \n",
    "               whichalpha=whichalpha, norm='no', nTOT=nTOT_abs, \n",
    "               power_range=power_range, fig=fig, ax=ax)\n",
    "\n",
    "ax.set_xlim([0,1000]);\n",
    "fig.savefig(str('power_sweep_atmaxzp.png'), \n",
    "    dpi=500, bbox_inches='tight')\n",
    "\n"
   ]
  },
  {
   "cell_type": "markdown",
   "id": "d2b681b6",
   "metadata": {},
   "source": [
    "# Evaluate a Single zp"
   ]
  },
  {
   "cell_type": "code",
   "execution_count": null,
   "id": "ad2a1d84",
   "metadata": {},
   "outputs": [],
   "source": [
    "# fig, ax = plt.subplots(1, 5, figsize=(9.3,1.8),sharex=True)\n",
    "# radius = np.array([10, 20, 30, 40, 50])*1E-7\n",
    "# ax[0].set_xlabel('Pump Wavelength [nm]')\n",
    "\n",
    "# waverange = np.round(np.arange(400, 700, 1)*1E-7, 7)\n",
    "# pump = waverange\n",
    "# probe = 785.E-7\n",
    "# whichalpha='coreshell_MW'\n",
    "# nTOT_abs=10\n",
    "# nTOT_sca=10\n",
    "# power = 500 # microWatts\n",
    "# zp = -1000.E-7\n",
    "\n",
    "# pe = Plot_Everything(radius)\n",
    "# pe.pi_si_terms(False,pump, probe, whichalpha, nTOT_abs, nTOT_sca, power, fig, \n",
    "#                ax, plot_self_diff=False, sep_sincos=False,define_zp=np.array([zp]))\n"
   ]
  },
  {
   "cell_type": "code",
   "execution_count": null,
   "id": "1989cb8c",
   "metadata": {},
   "outputs": [],
   "source": []
  }
 ],
 "metadata": {
  "kernelspec": {
   "display_name": "Python 3 (ipykernel)",
   "language": "python",
   "name": "python3"
  },
  "language_info": {
   "codemirror_mode": {
    "name": "ipython",
    "version": 3
   },
   "file_extension": ".py",
   "mimetype": "text/x-python",
   "name": "python",
   "nbconvert_exporter": "python",
   "pygments_lexer": "ipython3",
   "version": "3.8.11"
  }
 },
 "nbformat": 4,
 "nbformat_minor": 5
}
