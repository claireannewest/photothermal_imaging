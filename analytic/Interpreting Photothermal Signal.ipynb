{
 "cells": [
  {
   "cell_type": "code",
   "execution_count": null,
   "id": "90e6a8d0",
   "metadata": {},
   "outputs": [],
   "source": [
    "from analytic_psfs import Mie_Theory\n",
    "from analytic_psfs import Plot_Everything\n",
    "import numpy as np\n",
    "import matplotlib.pyplot as plt"
   ]
  },
  {
   "cell_type": "markdown",
   "id": "53b9f446",
   "metadata": {},
   "source": [
    "## Vary Pump Power"
   ]
  },
  {
   "cell_type": "code",
   "execution_count": null,
   "id": "ad2a1d84",
   "metadata": {},
   "outputs": [],
   "source": [
    "fig, ax = plt.subplots(1, 5, figsize=(9.3,1.8),sharex=True)\n",
    "radius = np.array([10, 20, 30, 40, 50])*1E-7\n",
    "ax[0].set_xlabel('Pump Wavelength [nm]')\n",
    "\n",
    "waverange = np.round(np.arange(400, 700, 1)*1E-7, 7)\n",
    "pump = waverange\n",
    "probe = 1000.E-7\n",
    "whichalpha='coreshell_MW'\n",
    "nTOT_abs=10\n",
    "nTOT_sca=10\n",
    "power = 1000 # microWatts\n",
    "\n",
    "pe = Plot_Everything(radius)\n",
    "pe.pi_si_terms(pump, probe, whichalpha, nTOT_abs, nTOT_sca, power, fig, ax, plot_self_diff=True, sep_sincos=True)\n"
   ]
  },
  {
   "cell_type": "markdown",
   "id": "5981f643",
   "metadata": {},
   "source": [
    "## Model of Pump Varied"
   ]
  },
  {
   "cell_type": "code",
   "execution_count": null,
   "id": "333a1ca1",
   "metadata": {},
   "outputs": [],
   "source": [
    "from scipy.interpolate import interp1d\n",
    "\n",
    "waverange = np.arange(400,700)*1E-7\n",
    "radius=np.array([10, 20, 30, 40, 50])*1E-7\n",
    "\n",
    "waist = waverange * 0.6 / 1.25 \n",
    "nTOT=10\n",
    "\n",
    "fig, ax = plt.subplots(1, 5, figsize=(9.3,1.8),sharex=True)\n",
    "\n",
    "for idx, rad in enumerate(radius):\n",
    "    mt = Mie_Theory(rad, waverange)\n",
    "    abs_cross, _, _ = mt.cross_sects(nTOT=nTOT)\n",
    "    abs_cross_MIE, _, _ = mt.cross_sects(nTOT=nTOT_abs)\n",
    "    ax[idx].fill_between(waverange*1E7, abs_cross_MIE/max(abs_cross_MIE), \n",
    "                     color='gray',zorder=1, alpha=.6)\n",
    "    idx_abs = np.where(abs_cross_MIE == max(abs_cross_MIE))\n",
    "    max_abs = waverange[idx_abs]\n",
    "    ax[idx].plot(np.array([max_abs, max_abs])*1E7, \n",
    "        np.array([0, 1]), color='k', linewidth=0.75, linestyle='dashed',zorder=20)    \n",
    "    \n",
    "    linear = abs_cross/waist**2\n",
    "    quad = abs_cross**2/waist**4\n",
    "    ax[idx].plot(waverange*1E7, linear/max(linear), label='$\\sigma_{abs}$/w$^2$',color='lime',zorder=10)\n",
    "    ax[idx].plot(waverange*1E7, quad/max(quad), label='$\\sigma_{abs}$/w$^4$',color='m',zorder=10)\n",
    "    ax[idx].set_title(str('r = ')+str(int(np.round(rad*1E7)))+str(' nm'))\n",
    "    ax[idx].set_ylim([0, 1.1])\n",
    "    ax[idx].set_xlim([400, 700])\n",
    "plt.subplots_adjust(left=.05, bottom=.2, right=.95, \n",
    "                    top=.8, wspace=.5) \n",
    "ax[0].set_xlabel('Pump Wavelength [nm]')\n",
    "fig.savefig(str('pump_model.png'), \n",
    "    dpi=500, bbox_inches='tight'\n",
    "    )\n"
   ]
  },
  {
   "cell_type": "markdown",
   "id": "c4300d78",
   "metadata": {},
   "source": [
    "## Vary Probe Wavelength"
   ]
  },
  {
   "cell_type": "code",
   "execution_count": null,
   "id": "b423dc7b",
   "metadata": {},
   "outputs": [],
   "source": [
    "fig, ax = plt.subplots(1, 5, figsize=(9.3,1.8),sharex=True)\n",
    "radius = np.array([10, 20, 30, 40, 50])*1E-7\n",
    "\n",
    "ax[0].set_xlabel('Probe Wavelength [nm]')\n",
    "waverange = np.round(np.arange(400, 700, 1)*1E-7, 7)\n",
    "pump = np.array([532.E-7])\n",
    "probe = waverange\n",
    "whichalpha='coreshell_MW'\n",
    "nTOT_abs=10\n",
    "nTOT_sca=1\n",
    "power = 500 # microWatts\n",
    "\n",
    "pe = Plot_Everything(radius)\n",
    "pe.pi_si_terms(pump, probe, whichalpha, nTOT_abs, nTOT_sca, power, fig, ax, plot_self_diff=True, sep_sincos=True)"
   ]
  },
  {
   "cell_type": "markdown",
   "id": "5df0d855",
   "metadata": {},
   "source": [
    "## Model of Probe Varied"
   ]
  },
  {
   "cell_type": "code",
   "execution_count": null,
   "id": "535516b7",
   "metadata": {},
   "outputs": [],
   "source": [
    "import numpy as np\n",
    "import matplotlib.pyplot as plt\n",
    "from scipy.interpolate import interp1d\n",
    "\n",
    "nb=1.473\n",
    "\n",
    "def eps(wavelength):\n",
    "    JCdata = np.loadtxt('auJC_interp.tab',skiprows=3)\n",
    "    wave = JCdata[:,0]*1E-4 # cm\n",
    "    n_re_raw = JCdata[:,1]\n",
    "    n_im_raw = JCdata[:,2]\n",
    "    wavenew = np.arange(np.round(min(wave),7)+1E-7, np.round(max(wave),7), 1E-7)\n",
    "    f_nre= interp1d(wave, n_re_raw, \"cubic\")\n",
    "    n_re = f_nre(wavenew)\n",
    "    f_nim= interp1d(wave, n_im_raw, \"cubic\")\n",
    "    n_im = f_nim(wavenew)\n",
    "    idx = np.where(np.round(wavenew,7) == np.round(wavelength,7))[0][0]\n",
    "    n = n_re[idx] + 1j*n_im[idx]\n",
    "    eps = n_re[idx]**2 - n_im[idx]**2 +1j*(2*n_re[idx]*n_im[idx])\n",
    "    return eps\n",
    "\n",
    "def alpha(wavelength, r):\n",
    "    xi = 2*np.pi*r/wavelength\n",
    "    q = 1/3*(1-(xi)**2 - 1j*2/3*(xi)**3)\n",
    "    eps1 = eps(wavelength)\n",
    "    epsb = nb**2\n",
    "    return epsb/3*r**3*(eps(wavelength)-nb**2)/( nb**2 +q*(eps(wavelength) - nb**2) )\n",
    "\n",
    "def pi(wavelength):\n",
    "    k = 1#2*np.pi*nb/wavelength\n",
    "    eps1 = eps(wavelength)\n",
    "    epsb = nb\n",
    "    return k*np.imag(1/(eps1+2*epsb)**2)\n",
    "\n",
    "def term1(wavelength):\n",
    "    k = 1#2*np.pi*nb/wavelength\n",
    "    eps1 = eps(wavelength)\n",
    "    epsb = nb\n",
    "    return k**4*np.real(1/np.conj(eps1+2*epsb) * 1/(eps1+2*epsb)**2)\n",
    "\n",
    "def term2(wavelength):\n",
    "    k = 1#2*np.pi*nb/wavelength\n",
    "    eps1 = eps(wavelength)\n",
    "    epsb = nb\n",
    "    return np.real(1/np.abs((eps1+2*epsb)**2)**2)\n",
    "\n",
    "def scat(wavelength):\n",
    "    eps1 = eps(wavelength)\n",
    "    epsb = nb\n",
    "    return np.real(1/np.abs(eps1+2*epsb))**2\n",
    "\n",
    "def ext(wavelength):\n",
    "    eps1 = eps(wavelength)\n",
    "    epsb = nb\n",
    "    return np.imag(-1/(eps1+2*epsb))\n",
    "\n",
    "waverange = np.arange(400,700)*1E-7\n",
    "termalpha_1 = np.zeros(len(waverange))\n",
    "termalpha_2 = np.zeros(len(waverange))\n",
    "pi_term = np.zeros(len(waverange))\n",
    "sca = np.zeros(len(waverange))\n",
    "ext_c = np.zeros(len(waverange))\n",
    "\n",
    "for idx, wave in enumerate(waverange):\n",
    "    termalpha_1[idx] = term1(wavelength=wave)\n",
    "    termalpha_2[idx] = term2(wavelength=wave)\n",
    "    pi_term[idx] = pi(wavelength=wave)\n",
    "    sca[idx] = scat(wavelength=wave)\n",
    "    ext_c[idx] = ext(wavelength=wave)\n",
    "\n",
    "fig, ax = plt.subplots(1, 1, figsize=(4,4),sharex=True)\n",
    "plt.plot(waverange*1E7, termalpha_1/max(termalpha_1),'green', label=str('SI 1'))\n",
    "plt.plot(waverange*1E7, termalpha_2/max(termalpha_2), 'orange',label=str('SI 2'))\n",
    "plt.plot(waverange*1E7, pi_term/max(pi_term), 'blue',label=str('PI'))\n",
    "plt.plot(waverange*1E7, sca/max(sca), 'k',linestyle='dotted', label=str('Sca'))\n",
    "plt.plot(waverange*1E7, ext_c/max(ext_c), 'k',linestyle='dashed', label=str('Ext'))\n",
    "\n",
    "plt.axhline(0, color='k')\n",
    "idx_1_min = np.where(termalpha_1 == min(termalpha_1))\n",
    "idx_1_max = np.where(termalpha_1 == max(termalpha_1))\n",
    "idx_2_min = np.where(termalpha_2 == min(termalpha_2))\n",
    "idx_2_max = np.where(termalpha_2 == max(termalpha_2))\n",
    "idx_p_min = np.where(pi_term == min(pi_term))\n",
    "idx_p_max = np.where(pi_term == max(pi_term))\n",
    "idx_ext_max = np.where(ext_c == max(ext_c))\n",
    "idx_sca_max = np.where(sca == max(sca))\n",
    "\n",
    "\n",
    "print('Min SI1', int(waverange[idx_1_min][0]*1E7))\n",
    "print('Max SI1', int(waverange[idx_1_max][0]*1E7))\n",
    "\n",
    "print('Min SI2', int(waverange[idx_2_min][0]*1E7))\n",
    "print('Max SI2', int(waverange[idx_2_max][0]*1E7))\n",
    "\n",
    "print('Min PI', int(waverange[idx_p_min][0]*1E7))\n",
    "print('Max PI', int(waverange[idx_p_max][0]*1E7))\n",
    "\n",
    "print('Max Sca', int(waverange[idx_sca_max][0]*1E7))\n",
    "print('Max Ext', int(waverange[idx_ext_max][0]*1E7))\n",
    "\n",
    "plt.xlim([480, 560])\n",
    "plt.ylim([0.4, 1.1])\n",
    "plt.xlabel('Probe Wavelength [nm]')\n",
    "# plt.legend(frameon=False)\n",
    "plt.subplots_adjust(bottom=.2)\n",
    "\n",
    "fig.savefig('check_pols.png',\n",
    "    dpi=500, bbox_inches='tight'\n",
    "    )\n"
   ]
  },
  {
   "cell_type": "markdown",
   "id": "82567a00",
   "metadata": {},
   "source": [
    "## Sweep Power"
   ]
  },
  {
   "cell_type": "code",
   "execution_count": 9,
   "id": "6acbc0a2",
   "metadata": {},
   "outputs": [
    {
     "data": {
      "image/png": "[encoded data removed]",
      "text/plain": [
       "<Figure size 144x144 with 1 Axes>"
      ]
     },
     "metadata": {
      "needs_background": "light"
     },
     "output_type": "display_data"
    }
   ],
   "source": [
    "from analytic_psfs import Mie_Theory\n",
    "from analytic_psfs import Plot_Everything\n",
    "import numpy as np\n",
    "import matplotlib.pyplot as plt\n",
    "\n",
    "fig, ax = plt.subplots(1, 1, figsize=(2.,2.),sharex=True)\n",
    "radius = np.array([10])*1E-7\n",
    "\n",
    "waverange = np.round(np.arange(400, 700, 1)*1E-7, 7)\n",
    "pump = np.array([532.E-7])\n",
    "probe = 785.E-7\n",
    "whichalpha='glyc_sph_MW'\n",
    "nTOT_abs=10\n",
    "\n",
    "          \n",
    "\n",
    "waist_pr = probe * 0.6 / 1.25\n",
    "nb_T0 = 1.473\n",
    "zR = np.pi*waist_pr**2*nb_T0/probe\n",
    "zp = np.array([0*zR])\n",
    "\n",
    "power_range = np.arange(0, 101, 1) # microwatts\n",
    "\n",
    "pe = Plot_Everything(radius,)\n",
    "pe.sweep_power(pump, probe, whichalpha, 'comp', nTOT_abs, power_range, zp)\n",
    "\n",
    "fig.savefig('power.png',\n",
    "    dpi=500, bbox_inches='tight'\n",
    "    )\n"
   ]
  },
  {
   "cell_type": "markdown",
   "id": "800460e9",
   "metadata": {},
   "source": [
    "## Vary Both Pump and Probe"
   ]
  },
  {
   "cell_type": "code",
   "execution_count": null,
   "id": "383876a1",
   "metadata": {},
   "outputs": [],
   "source": [
    "fig, ax = plt.subplots(1, 5, figsize=(9.3,1.8),sharex=True)\n",
    "radius = np.array([10, 20, 30, 40, 50])*1E-7\n",
    "ax[0].set_xlabel('Pump and Probe Wavelength [nm]')\n",
    "\n",
    "waverange = np.round(np.arange(400, 700, 1)*1E-7, 7)\n",
    "pump = waverange\n",
    "probe = waverange\n",
    "whichalpha='coreshell_MW'\n",
    "nTOT_abs=10\n",
    "nTOT_sca=10\n",
    "power = 500 # microWatts\n",
    "\n",
    "pe = Plot_Everything(radius)\n",
    "pe.pi_si_terms(pump, probe, whichalpha, nTOT_abs, nTOT_sca, power, fig, ax, plot_self_diff=True, sep_sincos=True)\n"
   ]
  },
  {
   "cell_type": "code",
   "execution_count": null,
   "id": "c294f5c0",
   "metadata": {},
   "outputs": [],
   "source": []
  }
 ],
 "metadata": {
  "kernelspec": {
   "display_name": "Python 3 (ipykernel)",
   "language": "python",
   "name": "python3"
  },
  "language_info": {
   "codemirror_mode": {
    "name": "ipython",
    "version": 3
   },
   "file_extension": ".py",
   "mimetype": "text/x-python",
   "name": "python",
   "nbconvert_exporter": "python",
   "pygments_lexer": "ipython3",
   "version": "3.8.11"
  }
 },
 "nbformat": 4,
 "nbformat_minor": 5
}
