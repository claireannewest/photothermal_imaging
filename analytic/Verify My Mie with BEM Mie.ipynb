{
 "cells": [
  {
   "cell_type": "code",
   "execution_count": 1,
   "id": "a78e0871",
   "metadata": {},
   "outputs": [],
   "source": [
    "from analytic_psfs import Mie_Theory\n",
    "import numpy as np\n",
    "import matplotlib.pyplot as plt\n",
    "from scipy.io import loadmat\n",
    "\n",
    "hbar_eVs = 6.58212E-16 # Planck's constant [eV*s]\n",
    "c = 2.998E+10 # speed of light [cm/s]"
   ]
  },
  {
   "cell_type": "code",
   "execution_count": 25,
   "id": "b51b5246",
   "metadata": {},
   "outputs": [],
   "source": [
    "wave_pump_range = np.arange(400, 701)*1E-7\n",
    "abs_cross_MIE = np.zeros(len(wave_pump_range))\n",
    "sca_cross_MIE = np.zeros(len(wave_pump_range))\n",
    "\n",
    "for idx, val in enumerate(wave_pump_range):\n",
    "    mt = Mie_Theory(30E-7,1.473, val)\n",
    "    abs_cross_MIE[idx], sca_cross_MIE[idx]  = mt.cross_sects(nTOT=1)"
   ]
  },
  {
   "cell_type": "code",
   "execution_count": 8,
   "id": "7113ad38",
   "metadata": {},
   "outputs": [
    {
     "name": "stdout",
     "output_type": "stream",
     "text": [
      "100\n"
     ]
    }
   ],
   "source": [
    "# val = 5\n",
    "# mie_bem = loadmat(str('simulated_sphere_data/sphere_analysis/Sph')+str(val)+str('nm_JC_ret_l10_n1.473.mat'))\n",
    "\n",
    "radii = np.arange(5,101,5)\n",
    "num_wave = 200\n",
    "\n",
    "mie_l10_JCvac_wave = np.zeros((len(radii),num_wave))\n",
    "mie_l10_JCvac_ext = np.zeros((len(radii),num_wave))\n",
    "mie_l10_JCvac_sca = np.zeros((len(radii),num_wave))\n",
    "for count, val in enumerate(radii):\n",
    "    mie_l10_JCvac_wave[count,:] = mie_bem['enei'][0]\n",
    "    mie_l10_JCvac_ext[count, :] = mie_bem['ext'][0]\n",
    "    mie_l10_JCvac_sca[count,:] = mie_bem['sca'][0]\n",
    "print(radii[-1])"
   ]
  },
  {
   "cell_type": "code",
   "execution_count": 26,
   "id": "1df1bc69",
   "metadata": {},
   "outputs": [],
   "source": [
    "val = 30\n",
    "mie_bem = loadmat(str('simulated_sphere_data/sphere_analysis/Sph')+str(val)+str('nm_JC_ret_l1_n1.473.mat'))\n",
    "\n",
    "mie_l10_JCvac_wave= mie_bem['enei'][0]\n",
    "mie_l10_JCvac_ext = mie_bem['ext'][0]\n",
    "mie_l10_JCvac_sca= mie_bem['sca'][0]\n"
   ]
  },
  {
   "cell_type": "code",
   "execution_count": 27,
   "id": "17a9f8dd",
   "metadata": {},
   "outputs": [
    {
     "data": {
      "text/plain": [
       "[<matplotlib.lines.Line2D at 0x7fec10bdcf70>]"
      ]
     },
     "execution_count": 27,
     "metadata": {},
     "output_type": "execute_result"
    },
    {
     "data": {
      "image/png": "[encoded data removed]",
      "text/plain": [
       "<Figure size 432x288 with 1 Axes>"
      ]
     },
     "metadata": {
      "needs_background": "light"
     },
     "output_type": "display_data"
    }
   ],
   "source": [
    "plt.plot(mie_l10_JCvac_wave, mie_l10_JCvac_ext-mie_l10_JCvac_sca)\n",
    "plt.plot(wave_pump_range*1E7, abs_cross_MIE*(1E4)**2,'--')"
   ]
  },
  {
   "cell_type": "code",
   "execution_count": null,
   "id": "e7de386b",
   "metadata": {},
   "outputs": [],
   "source": []
  }
 ],
 "metadata": {
  "kernelspec": {
   "display_name": "Python 3",
   "language": "python",
   "name": "python3"
  },
  "language_info": {
   "codemirror_mode": {
    "name": "ipython",
    "version": 3
   },
   "file_extension": ".py",
   "mimetype": "text/x-python",
   "name": "python",
   "nbconvert_exporter": "python",
   "pygments_lexer": "ipython3",
   "version": "3.8.8"
  }
 },
 "nbformat": 4,
 "nbformat_minor": 5
}
